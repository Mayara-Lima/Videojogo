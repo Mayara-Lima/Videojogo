{
 "cells": [
  {
   "cell_type": "code",
   "execution_count": null,
   "id": "307cb54f",
   "metadata": {},
   "outputs": [],
   "source": [
    "# Primeiro nível do jogo:\n",
    "\n",
    "cavaleiro = { 'vida':2, 'ataque':2, 'defesa': 2, 'alcance':2 }\n",
    "guerreiro = { 'vida':2, 'ataque':2, 'defesa': 2, 'alcance':2 }\n",
    "arqueiro  = { 'vida':2, 'ataque':2, 'defesa': 2, 'alcance':2 }\n",
    "\n",
    "# Para o segundo nível do jogo teremos:\n",
    "# O cavaleiro terá o dobro de vida e de defesa que um guerreiro;\n",
    "# O guerreiro terá o dobro do ataque e do alcance que um cavaleiro;\n",
    "# O arqueiro terá a mesma vida e ataque que um guerreiro, mas a metade da sua defesa e o dobro do seu alcance.\n",
    "\n",
    "cavaleiro[\"vida\"] = (2 * guerreiro[\"vida\"])\n",
    "cavaleiro[\"defesa\"] = (2 * guerreiro[\"defesa\"])\n",
    "guerreiro[\"ataque\"] = (2 * cavaleiro[\"ataque\"])\n",
    "guerreiro[\"alcance\"] = (2 * cavaleiro[\"alcance\"])\n",
    "arqueiro[\"vida\"] = guerreiro[\"vida\"]\n",
    "arqueiro[\"ataque\"] = guerreiro[\"ataque\"]\n",
    "arqueiro[\"defesa\"] = (int(guerreiro[\"defesa\"]/2))\n",
    "arqueiro[\"alcance\"] = (2 * guerreiro[\"alcance\"])\n",
    "\n",
    "print(\"Cavaleiro = \", cavaleiro)\n",
    "print(\"Guerreiro = \", guerreiro)\n",
    "print(\"Arqueiro = \", arqueiro)"
   ]
  }
 ],
 "metadata": {
  "kernelspec": {
   "display_name": "Python 3 (ipykernel)",
   "language": "python",
   "name": "python3"
  },
  "language_info": {
   "codemirror_mode": {
    "name": "ipython",
    "version": 3
   },
   "file_extension": ".py",
   "mimetype": "text/x-python",
   "name": "python",
   "nbconvert_exporter": "python",
   "pygments_lexer": "ipython3",
   "version": "3.9.12"
  }
 },
 "nbformat": 4,
 "nbformat_minor": 5
}
